{
 "cells": [
  {
   "cell_type": "markdown",
   "id": "5f1e6678",
   "metadata": {},
   "source": [
    "## INSTRUCTIONS \n",
    "\n",
    "Every learner should submit his/her own homework solutions. However, you are allowed to discuss the homework with each other– but everyone must submit his/her own solution; you may not copy someone else’s solution. \n",
    "\n",
    "The homework consists of two parts:\n",
    "1.\tData manipulation\n",
    "2.\tExploratory Data Analysis\n",
    "\n",
    "Follow the prompts in the attached jupyter notebook. Download the data and place it in your working directory, or modify the path to upload it to your notebook. Add markdown cells to your analysis to include your solutions, comments, answers. Add as many cells as you need, for easy readability comment when possible.\n",
    "Hopefully this homework will help you develop skills, make you understand the flow of an EDA, get you ready for individual work.\n",
    "\n",
    "Submission: Send in both a ipynb and a pdf file of your work. \n",
    "\n",
    "Good luck!\n"
   ]
  },
  {
   "cell_type": "markdown",
   "id": "3f2f64e1",
   "metadata": {},
   "source": [
    "# Part1: Cleaning, wrangling data"
   ]
  },
  {
   "cell_type": "markdown",
   "id": "7888edb2",
   "metadata": {},
   "source": [
    "**Data cleaning focuses on removing inaccurate data from your data set whereas data wrangling focuses on transforming the data's format, typically by converting “raw” data into another format more suitable for use.\n",
    "This excersize uses the traffic_cameras file. Your task is to follow prompts to change, modify your data. Try your best!**"
   ]
  },
  {
   "cell_type": "code",
   "execution_count": null,
   "id": "38d1560b",
   "metadata": {},
   "outputs": [],
   "source": [
    "#read in libraries\n",
    "import numpy as np\n",
    "from sklearn.datasets import load_iris\n",
    "from sklearn import preprocessing\n",
    "import pandas as pd\n",
    " "
   ]
  },
  {
   "cell_type": "code",
   "execution_count": null,
   "id": "88d54d37",
   "metadata": {},
   "outputs": [],
   "source": [
    "# Reading the CSV file\n",
    "df = pd.read_csv(\"traffic_cameras.csv\")\n",
    " \n",
    "# Printing top 5 rows\n",
    "df.head()"
   ]
  },
  {
   "cell_type": "markdown",
   "id": "c4f907eb",
   "metadata": {},
   "source": [
    "### 1. How many rows and columns does your data have?"
   ]
  },
  {
   "cell_type": "code",
   "execution_count": null,
   "id": "afcbcf2e",
   "metadata": {},
   "outputs": [],
   "source": [
    "### Your code goes here ###\n"
   ]
  },
  {
   "cell_type": "markdown",
   "id": "e5faa5c9",
   "metadata": {},
   "source": [
    "### 2. What can you tell us about the type of variables we have?"
   ]
  },
  {
   "cell_type": "code",
   "execution_count": null,
   "id": "4842966f",
   "metadata": {},
   "outputs": [],
   "source": [
    "### Your code goes here ###\n"
   ]
  },
  {
   "cell_type": "code",
   "execution_count": null,
   "id": "976b3281",
   "metadata": {},
   "outputs": [],
   "source": [
    "### Your asnwer should go in here ### change the cell to markdown\n",
    "\n",
    "\n",
    "\n",
    "\n"
   ]
  },
  {
   "cell_type": "markdown",
   "id": "75da969d",
   "metadata": {},
   "source": [
    "### 3. Delete only the columns that have all null values, name it df1 (nothing else, but null)"
   ]
  },
  {
   "cell_type": "code",
   "execution_count": null,
   "id": "be53db8d",
   "metadata": {},
   "outputs": [],
   "source": [
    "### Your code goes here ###\n",
    "\n",
    "\n"
   ]
  },
  {
   "cell_type": "code",
   "execution_count": null,
   "id": "3f42e860",
   "metadata": {},
   "outputs": [],
   "source": [
    "df1.info()"
   ]
  },
  {
   "cell_type": "markdown",
   "id": "5a4e6533",
   "metadata": {},
   "source": [
    "### 4. Dropp columns that have (any) null values name it df2"
   ]
  },
  {
   "cell_type": "code",
   "execution_count": null,
   "id": "b40f9dbd",
   "metadata": {},
   "outputs": [],
   "source": [
    "### Your code goes here ###\n"
   ]
  },
  {
   "cell_type": "code",
   "execution_count": null,
   "id": "bd374d91",
   "metadata": {},
   "outputs": [],
   "source": [
    "df2.info()\n",
    "df2.shape"
   ]
  },
  {
   "cell_type": "markdown",
   "id": "bee9f584",
   "metadata": {},
   "source": [
    "### 5. Rename column names in df2 so they are more usable (name the new dataframe df3) to the followings: cam_id, loc_name, cam_stat, atd_loc_id, loc_type, date, comm_stat, comm_stat_date, screen_addr, id, location"
   ]
  },
  {
   "cell_type": "code",
   "execution_count": null,
   "id": "bd4eb82a",
   "metadata": {},
   "outputs": [],
   "source": [
    "### Your code goes here ###\n"
   ]
  },
  {
   "cell_type": "code",
   "execution_count": null,
   "id": "1c571fb9",
   "metadata": {},
   "outputs": [],
   "source": [
    "df3.head"
   ]
  },
  {
   "cell_type": "markdown",
   "id": "d4bf751e",
   "metadata": {},
   "source": [
    "### 6. Split \"date\" column into two  new columns within df3 ('Dates' and 'Time') /modify df3 data/"
   ]
  },
  {
   "cell_type": "code",
   "execution_count": null,
   "id": "1a6d0645",
   "metadata": {},
   "outputs": [],
   "source": [
    "### Your code goes here ###\n"
   ]
  },
  {
   "cell_type": "code",
   "execution_count": null,
   "id": "06a52aca",
   "metadata": {},
   "outputs": [],
   "source": [
    "df3.head"
   ]
  },
  {
   "cell_type": "markdown",
   "id": "51bad5fd",
   "metadata": {},
   "source": [
    "### 7. Split atd_loc into two new columns 'Loc' and 'code' within df3"
   ]
  },
  {
   "cell_type": "code",
   "execution_count": null,
   "id": "73392bc9",
   "metadata": {},
   "outputs": [],
   "source": [
    "### Your code goes here ###\n"
   ]
  },
  {
   "cell_type": "code",
   "execution_count": null,
   "id": "8dae84ff",
   "metadata": {
    "scrolled": true
   },
   "outputs": [],
   "source": [
    "df3.head"
   ]
  },
  {
   "cell_type": "markdown",
   "id": "0bf32376",
   "metadata": {},
   "source": [
    "### 8. What are the unique values in loc_type?"
   ]
  },
  {
   "cell_type": "code",
   "execution_count": null,
   "id": "6e24c032",
   "metadata": {},
   "outputs": [],
   "source": [
    "### Your code goes here ###\n"
   ]
  },
  {
   "cell_type": "markdown",
   "id": "84263370",
   "metadata": {},
   "source": [
    "### 9. Replace 'ROADWAY' to '0',  'BUILDING' to '1' in the loc_type column within df3"
   ]
  },
  {
   "cell_type": "code",
   "execution_count": null,
   "id": "6e47a66e",
   "metadata": {},
   "outputs": [],
   "source": [
    "### Your code goes here ###\n"
   ]
  },
  {
   "cell_type": "code",
   "execution_count": null,
   "id": "dae2bb74",
   "metadata": {},
   "outputs": [],
   "source": [
    "df3.head"
   ]
  },
  {
   "cell_type": "code",
   "execution_count": null,
   "id": "a4fd78da",
   "metadata": {},
   "outputs": [],
   "source": [
    "df3.loc_type.unique()"
   ]
  },
  {
   "cell_type": "markdown",
   "id": "903acc12",
   "metadata": {},
   "source": [
    "### 10. Split on on '/' the loc_name column into two new variables 'corner1', 'corner2' "
   ]
  },
  {
   "cell_type": "code",
   "execution_count": null,
   "id": "e7dbdb07",
   "metadata": {},
   "outputs": [],
   "source": [
    "### Your code goes here ###\n"
   ]
  },
  {
   "cell_type": "code",
   "execution_count": null,
   "id": "d65e0e81",
   "metadata": {},
   "outputs": [],
   "source": [
    "df3.head"
   ]
  },
  {
   "cell_type": "markdown",
   "id": "ccdcaabd",
   "metadata": {},
   "source": [
    "# Part2: Exploratory Data Analysis (EDA)"
   ]
  },
  {
   "cell_type": "markdown",
   "id": "a07bda12",
   "metadata": {},
   "source": [
    "Exploratory Data Analysis refers to the critical process of performing initial investigations on data so as to discover patterns,to spot anomalies,to test hypothesis and to check assumptions with the help of summary statistics and graphical representations.\n",
    "\n",
    "Follow the lecture notes for ideas of how to perform EDA on your dataset. For help, here are the steps we talked about:\n",
    "\n",
    "***Steps in EDA***:\n",
    "1. Provide descriptions of your sample and features\n",
    "2. Check for missing data\n",
    "3. Identify the shape of your data\n",
    "4. Identify significant correlations\n",
    "5. Spot/deal with outliers in the dataset\n",
    "\n",
    "These steps are a guidline. Try different things and share your insights about the dataset.\n",
    "\n",
    "**Don't forget to add \"markdown\" cells to include your findings or to explain what you are doing** "
   ]
  },
  {
   "cell_type": "code",
   "execution_count": null,
   "id": "2ae8d8b2",
   "metadata": {},
   "outputs": [],
   "source": [
    "# importing packages\n",
    "import seaborn as sns\n",
    "import matplotlib.pyplot as plt\n",
    "%matplotlib inline"
   ]
  },
  {
   "cell_type": "code",
   "execution_count": null,
   "id": "1d83766a",
   "metadata": {},
   "outputs": [],
   "source": [
    "# Reading the CSV file\n",
    "df_fish = pd.read_csv(\"Fish.csv\")\n",
    " \n",
    "# Printing top 5 rows\n",
    "df_fish.head()"
   ]
  },
  {
   "cell_type": "code",
   "execution_count": null,
   "id": "82b33dc6",
   "metadata": {},
   "outputs": [],
   "source": []
  }
 ],
 "metadata": {
  "kernelspec": {
   "display_name": "Python 3 (ipykernel)",
   "language": "python",
   "name": "python3"
  },
  "language_info": {
   "codemirror_mode": {
    "name": "ipython",
    "version": 3
   },
   "file_extension": ".py",
   "mimetype": "text/x-python",
   "name": "python",
   "nbconvert_exporter": "python",
   "pygments_lexer": "ipython3",
   "version": "3.7.3"
  }
 },
 "nbformat": 4,
 "nbformat_minor": 5
}
